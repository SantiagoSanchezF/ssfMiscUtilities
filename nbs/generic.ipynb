{
 "cells": [
  {
   "cell_type": "markdown",
   "id": "01346007-b4fc-42da-90e2-f49483e1452a",
   "metadata": {},
   "source": [
    "# Generic\n",
    "\n",
    "> generic functions to help higher utils"
   ]
  },
  {
   "cell_type": "code",
   "execution_count": null,
   "id": "4242e64c-c462-4513-893c-955c623c0f82",
   "metadata": {},
   "outputs": [],
   "source": [
    "#| default_exp generic"
   ]
  },
  {
   "cell_type": "code",
   "execution_count": null,
   "id": "f534283f-56be-4f47-907c-fde71b03fb95",
   "metadata": {},
   "outputs": [],
   "source": [
    "#| hide\n",
    "from nbdev.showdoc import *\n",
    "from fastcore.utils import *"
   ]
  },
  {
   "cell_type": "code",
   "execution_count": null,
   "id": "86688610-216f-461c-a354-df4e121459da",
   "metadata": {},
   "outputs": [],
   "source": [
    "#| export\n",
    "import os\n",
    "import pickle\n",
    "import re\n",
    "import multiprocessing"
   ]
  },
  {
   "cell_type": "markdown",
   "id": "5dd148ba-4848-406a-85ae-ad2daf898a19",
   "metadata": {},
   "source": [
    "## Pickle tools"
   ]
  },
  {
   "cell_type": "code",
   "execution_count": null,
   "id": "333d3a4d-09df-440f-9e8b-b1c9564ef7d8",
   "metadata": {},
   "outputs": [],
   "source": [
    "#| export\n",
    "def load_pickle(pickle_file):\n",
    "    \"read a pickle file\"\n",
    "    if os.path.isfile(pickle_file) == False:\n",
    "        return\n",
    "    with open(pickle_file, \"rb\") as h:\n",
    "        result = pickle.load(h)\n",
    "    return result"
   ]
  },
  {
   "cell_type": "code",
   "execution_count": null,
   "id": "50c97528-0476-423a-ad8c-8c0ec79d8be0",
   "metadata": {},
   "outputs": [],
   "source": [
    "#| export\n",
    "def dump_pickle(obj,pickle_file,protocol=3):\n",
    "    \"dump an object to pickle file\"\n",
    "    with open(pickle_file, \"wb\") as h:\n",
    "        pickle.dump(obj, h, protocol=protocol)"
   ]
  },
  {
   "cell_type": "markdown",
   "id": "a6bdff55-39c6-4773-ac21-c397e1d1e7b8",
   "metadata": {},
   "source": [
    "## SED SCRIPT"
   ]
  },
  {
   "cell_type": "code",
   "execution_count": null,
   "id": "78f31733-f814-4b4c-8997-24c65a003724",
   "metadata": {},
   "outputs": [],
   "source": [
    "#| export\n",
    "def sed_script(script,replace_array):\n",
    "    \"\"\"\n",
    "    Find and replace variable names in script\n",
    "    This is useful to use with the lsd_interactive library to replace names in scripts\n",
    "    \"\"\"\n",
    "    with open(script, \"r\") as h:\n",
    "        lines = h.readlines()\n",
    "    with open(script, \"w\") as h:\n",
    "        for line in lines:\n",
    "            for var,hard in replace_array:\n",
    "                line = re.sub(\n",
    "                    var, \n",
    "                    str(hard),\n",
    "                    # str(hard) if type(hard)!=str else f\"'{hard}'\",\n",
    "                    line)\n",
    "            h.write(line)"
   ]
  },
  {
   "cell_type": "markdown",
   "id": "63b90099-9400-45b2-9d1d-639028211545",
   "metadata": {},
   "source": [
    "### how it works"
   ]
  },
  {
   "cell_type": "code",
   "execution_count": null,
   "id": "372b2e3a-fc74-4706-8372-97397bed20db",
   "metadata": {},
   "outputs": [],
   "source": [
    "#| notest\n",
    "script = \"/homes/fragoso/Downloads/test.py\""
   ]
  },
  {
   "cell_type": "code",
   "execution_count": null,
   "id": "2e1e4826-e15f-4e04-911b-ec71025523d1",
   "metadata": {},
   "outputs": [],
   "source": [
    "#| notest\n",
    "from inspect import getsource"
   ]
  },
  {
   "cell_type": "code",
   "execution_count": null,
   "id": "c96731b1-7e8b-4283-9b31-a6658d66e8d7",
   "metadata": {},
   "outputs": [
    {
     "name": "stdout",
     "output_type": "stream",
     "text": [
      "Overwriting /homes/fragoso/Downloads/test.py\n"
     ]
    }
   ],
   "source": [
    "#| notest\n",
    "%%writefile {script}\n",
    "import os\n",
    "import sys\n",
    "\n",
    "_sed_script\n",
    "\n",
    "VAR_1 = ##VAR1\n",
    "VAR_2 = ##VAR2\n",
    "VAR_3 = ##VAR3"
   ]
  },
  {
   "cell_type": "code",
   "execution_count": null,
   "id": "1b6f97b2-1586-4e54-b34f-254867decb78",
   "metadata": {},
   "outputs": [
    {
     "name": "stdout",
     "output_type": "stream",
     "text": [
      "import os\n",
      "import sys\n",
      "\n",
      "def sed_script(script,replace_array):\n",
      "    \"\"\"\n",
      "    Find and replace variable names in script\n",
      "    This is useful to use with the lsd_interactive library to replace names in scripts\n",
      "    \"\"\"\n",
      "    with open(script, \"r\") as h:\n",
      "        lines = h.readlines()\n",
      "    with open(script, \"w\") as h:\n",
      "        for line in lines:\n",
      "            for var,hard in replace_array:\n",
      "                line = re.sub(\n",
      "                    var, \n",
      "                    str(hard),\n",
      "                    # str(hard) if type(hard)!=str else f\"'{hard}'\",\n",
      "                    line)\n",
      "            h.write(line)\n",
      "\n",
      "\n",
      "VAR_1 = 1\n",
      "VAR_2 = example.file\n",
      "VAR_3 = \"example.file\"\n"
     ]
    }
   ],
   "source": [
    "#| notest\n",
    "replace_array = [(\"_sed_script\",getsource(sed_script)),(\"##VAR1\",1),(\"##VAR2\",'example.file'),(\"##VAR3\",'\"example.file\"')]\n",
    "sed_script(script,replace_array)\n",
    "!cat {script}"
   ]
  },
  {
   "cell_type": "markdown",
   "id": "fdc72cdd-ea5a-4e2b-8390-e649f2aaa797",
   "metadata": {},
   "source": [
    "## Map wrappers"
   ]
  },
  {
   "cell_type": "code",
   "execution_count": null,
   "id": "77e58ca8-8b7d-4dae-88ac-73479d11038c",
   "metadata": {},
   "outputs": [],
   "source": [
    "#| export\n",
    "def split_list(lst:list,n:int):\n",
    "    \"split a list into N chunks\"\n",
    "    k, m = divmod(len(lst), n)\n",
    "    return list(lst[i * k + min(i, m):(i + 1) * k + min(i + 1, m)] for i in range(n))\n"
   ]
  },
  {
   "cell_type": "code",
   "execution_count": null,
   "id": "cd67023e-073e-4c99-ae41-8a08de5c571c",
   "metadata": {},
   "outputs": [],
   "source": [
    "#| export\n",
    "def lmap(func,li:list):\n",
    "    \"map a list with funtion\"\n",
    "    return list(map(func,li))"
   ]
  },
  {
   "cell_type": "code",
   "execution_count": null,
   "id": "10c504ca-5339-44ae-b69a-90809f8cf074",
   "metadata": {},
   "outputs": [],
   "source": [
    "#| export\n",
    "def mmap(func,li:list,cpus:int):\n",
    "    \"wrapper of multiprocessing.Pool.map\"\n",
    "    with multiprocessing.Pool(cpus) as pool:\n",
    "        res = pool.map(func,li)\n",
    "    return res"
   ]
  },
  {
   "cell_type": "markdown",
   "id": "f9774c84-832c-48c9-b384-e3cb10826a1d",
   "metadata": {},
   "source": [
    "## Visual"
   ]
  },
  {
   "cell_type": "code",
   "execution_count": null,
   "id": "946d0b93-980f-4bce-a8fa-29d59c676fa6",
   "metadata": {},
   "outputs": [],
   "source": [
    "#| export\n",
    "def fprint(string:str):\n",
    "    \"wrapper to print with flush\"\n",
    "    print(string,end='\\n',flush=True)"
   ]
  },
  {
   "cell_type": "code",
   "execution_count": null,
   "id": "0e3abed4-d974-440c-b218-c083864665ce",
   "metadata": {},
   "outputs": [],
   "source": [
    "#| hide\n",
    "import nbdev; nbdev.nbdev_export()"
   ]
  },
  {
   "cell_type": "code",
   "execution_count": null,
   "id": "cc5c3e7b-1cb7-489f-9039-aafa9789a289",
   "metadata": {},
   "outputs": [],
   "source": []
  }
 ],
 "metadata": {
  "kernelspec": {
   "display_name": "Python 3 (ipykernel)",
   "language": "python",
   "name": "python3"
  }
 },
 "nbformat": 4,
 "nbformat_minor": 5
}
